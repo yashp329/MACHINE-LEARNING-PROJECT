{
 "cells": [
  {
   "cell_type": "markdown",
   "id": "veterinary-ownership",
   "metadata": {},
   "source": [
    "## IMPORTING REQUIRED LIBRARIES"
   ]
  },
  {
   "cell_type": "code",
   "execution_count": 66,
   "id": "excess-visit",
   "metadata": {},
   "outputs": [],
   "source": [
    "import numpy as np\n",
    "import pandas as pd\n",
    "import matplotlib.pyplot as plt\n",
    "import seaborn as sns\n",
    "\n",
    "import warnings\n",
    "warnings.filterwarnings(\"ignore\")"
   ]
  },
  {
   "cell_type": "markdown",
   "id": "intended-project",
   "metadata": {},
   "source": [
    "## READING THE DATASET"
   ]
  },
  {
   "cell_type": "code",
   "execution_count": 12,
   "id": "bearing-candidate",
   "metadata": {},
   "outputs": [
    {
     "data": {
      "text/html": [
       "<div>\n",
       "<style scoped>\n",
       "    .dataframe tbody tr th:only-of-type {\n",
       "        vertical-align: middle;\n",
       "    }\n",
       "\n",
       "    .dataframe tbody tr th {\n",
       "        vertical-align: top;\n",
       "    }\n",
       "\n",
       "    .dataframe thead th {\n",
       "        text-align: right;\n",
       "    }\n",
       "</style>\n",
       "<table border=\"1\" class=\"dataframe\">\n",
       "  <thead>\n",
       "    <tr style=\"text-align: right;\">\n",
       "      <th></th>\n",
       "      <th>reviewerID</th>\n",
       "      <th>asin</th>\n",
       "      <th>reviewerName</th>\n",
       "      <th>helpful</th>\n",
       "      <th>reviewText</th>\n",
       "      <th>overall</th>\n",
       "      <th>summary</th>\n",
       "      <th>unixReviewTime</th>\n",
       "      <th>reviewTime</th>\n",
       "    </tr>\n",
       "  </thead>\n",
       "  <tbody>\n",
       "    <tr>\n",
       "      <th>0</th>\n",
       "      <td>A11N155CW1UV02</td>\n",
       "      <td>B000H00VBQ</td>\n",
       "      <td>AdrianaM</td>\n",
       "      <td>[0, 0]</td>\n",
       "      <td>I had big expectations because I love English ...</td>\n",
       "      <td>2</td>\n",
       "      <td>A little bit boring for me</td>\n",
       "      <td>1399075200</td>\n",
       "      <td>05 3, 2014</td>\n",
       "    </tr>\n",
       "    <tr>\n",
       "      <th>1</th>\n",
       "      <td>A3BC8O2KCL29V2</td>\n",
       "      <td>B000H00VBQ</td>\n",
       "      <td>Carol T</td>\n",
       "      <td>[0, 0]</td>\n",
       "      <td>I highly recommend this series. It is a must f...</td>\n",
       "      <td>5</td>\n",
       "      <td>Excellent Grown Up TV</td>\n",
       "      <td>1346630400</td>\n",
       "      <td>09 3, 2012</td>\n",
       "    </tr>\n",
       "    <tr>\n",
       "      <th>2</th>\n",
       "      <td>A60D5HQFOTSOM</td>\n",
       "      <td>B000H00VBQ</td>\n",
       "      <td>Daniel Cooper \"dancoopermedia\"</td>\n",
       "      <td>[0, 1]</td>\n",
       "      <td>This one is a real snoozer. Don't believe anyt...</td>\n",
       "      <td>1</td>\n",
       "      <td>Way too boring for me</td>\n",
       "      <td>1381881600</td>\n",
       "      <td>10 16, 2013</td>\n",
       "    </tr>\n",
       "    <tr>\n",
       "      <th>3</th>\n",
       "      <td>A1RJPIGRSNX4PW</td>\n",
       "      <td>B000H00VBQ</td>\n",
       "      <td>J. Kaplan \"JJ\"</td>\n",
       "      <td>[0, 0]</td>\n",
       "      <td>Mysteries are interesting.  The tension betwee...</td>\n",
       "      <td>4</td>\n",
       "      <td>Robson Green is mesmerizing</td>\n",
       "      <td>1383091200</td>\n",
       "      <td>10 30, 2013</td>\n",
       "    </tr>\n",
       "    <tr>\n",
       "      <th>4</th>\n",
       "      <td>A16XRPF40679KG</td>\n",
       "      <td>B000H00VBQ</td>\n",
       "      <td>Michael Dobey</td>\n",
       "      <td>[1, 1]</td>\n",
       "      <td>This show always is excellent, as far as briti...</td>\n",
       "      <td>5</td>\n",
       "      <td>Robson green and great writing</td>\n",
       "      <td>1234310400</td>\n",
       "      <td>02 11, 2009</td>\n",
       "    </tr>\n",
       "  </tbody>\n",
       "</table>\n",
       "</div>"
      ],
      "text/plain": [
       "       reviewerID        asin                    reviewerName helpful  \\\n",
       "0  A11N155CW1UV02  B000H00VBQ                        AdrianaM  [0, 0]   \n",
       "1  A3BC8O2KCL29V2  B000H00VBQ                         Carol T  [0, 0]   \n",
       "2   A60D5HQFOTSOM  B000H00VBQ  Daniel Cooper \"dancoopermedia\"  [0, 1]   \n",
       "3  A1RJPIGRSNX4PW  B000H00VBQ                  J. Kaplan \"JJ\"  [0, 0]   \n",
       "4  A16XRPF40679KG  B000H00VBQ                   Michael Dobey  [1, 1]   \n",
       "\n",
       "                                          reviewText  overall  \\\n",
       "0  I had big expectations because I love English ...        2   \n",
       "1  I highly recommend this series. It is a must f...        5   \n",
       "2  This one is a real snoozer. Don't believe anyt...        1   \n",
       "3  Mysteries are interesting.  The tension betwee...        4   \n",
       "4  This show always is excellent, as far as briti...        5   \n",
       "\n",
       "                          summary  unixReviewTime   reviewTime  \n",
       "0      A little bit boring for me      1399075200   05 3, 2014  \n",
       "1           Excellent Grown Up TV      1346630400   09 3, 2012  \n",
       "2           Way too boring for me      1381881600  10 16, 2013  \n",
       "3     Robson Green is mesmerizing      1383091200  10 30, 2013  \n",
       "4  Robson green and great writing      1234310400  02 11, 2009  "
      ]
     },
     "execution_count": 12,
     "metadata": {},
     "output_type": "execute_result"
    }
   ],
   "source": [
    "dataset = pd.read_json(\"Amazon_Instant_Video_5.json\", lines = True)\n",
    "dataset.head()"
   ]
  },
  {
   "cell_type": "markdown",
   "id": "circular-corner",
   "metadata": {},
   "source": [
    "### creating new column \"reviews\" which displays length of reviewText"
   ]
  },
  {
   "cell_type": "code",
   "execution_count": 13,
   "id": "dress-tactics",
   "metadata": {},
   "outputs": [],
   "source": [
    "dataset['Reviews'] = dataset['reviewText'].astype(str).map(len) "
   ]
  },
  {
   "cell_type": "code",
   "execution_count": 14,
   "id": "french-drama",
   "metadata": {},
   "outputs": [
    {
     "data": {
      "text/html": [
       "<div>\n",
       "<style scoped>\n",
       "    .dataframe tbody tr th:only-of-type {\n",
       "        vertical-align: middle;\n",
       "    }\n",
       "\n",
       "    .dataframe tbody tr th {\n",
       "        vertical-align: top;\n",
       "    }\n",
       "\n",
       "    .dataframe thead th {\n",
       "        text-align: right;\n",
       "    }\n",
       "</style>\n",
       "<table border=\"1\" class=\"dataframe\">\n",
       "  <thead>\n",
       "    <tr style=\"text-align: right;\">\n",
       "      <th></th>\n",
       "      <th>reviewerID</th>\n",
       "      <th>asin</th>\n",
       "      <th>reviewerName</th>\n",
       "      <th>helpful</th>\n",
       "      <th>reviewText</th>\n",
       "      <th>overall</th>\n",
       "      <th>summary</th>\n",
       "      <th>unixReviewTime</th>\n",
       "      <th>reviewTime</th>\n",
       "      <th>Reviews</th>\n",
       "    </tr>\n",
       "  </thead>\n",
       "  <tbody>\n",
       "    <tr>\n",
       "      <th>0</th>\n",
       "      <td>A11N155CW1UV02</td>\n",
       "      <td>B000H00VBQ</td>\n",
       "      <td>AdrianaM</td>\n",
       "      <td>[0, 0]</td>\n",
       "      <td>I had big expectations because I love English ...</td>\n",
       "      <td>2</td>\n",
       "      <td>A little bit boring for me</td>\n",
       "      <td>1399075200</td>\n",
       "      <td>05 3, 2014</td>\n",
       "      <td>159</td>\n",
       "    </tr>\n",
       "    <tr>\n",
       "      <th>1</th>\n",
       "      <td>A3BC8O2KCL29V2</td>\n",
       "      <td>B000H00VBQ</td>\n",
       "      <td>Carol T</td>\n",
       "      <td>[0, 0]</td>\n",
       "      <td>I highly recommend this series. It is a must f...</td>\n",
       "      <td>5</td>\n",
       "      <td>Excellent Grown Up TV</td>\n",
       "      <td>1346630400</td>\n",
       "      <td>09 3, 2012</td>\n",
       "      <td>186</td>\n",
       "    </tr>\n",
       "    <tr>\n",
       "      <th>2</th>\n",
       "      <td>A60D5HQFOTSOM</td>\n",
       "      <td>B000H00VBQ</td>\n",
       "      <td>Daniel Cooper \"dancoopermedia\"</td>\n",
       "      <td>[0, 1]</td>\n",
       "      <td>This one is a real snoozer. Don't believe anyt...</td>\n",
       "      <td>1</td>\n",
       "      <td>Way too boring for me</td>\n",
       "      <td>1381881600</td>\n",
       "      <td>10 16, 2013</td>\n",
       "      <td>134</td>\n",
       "    </tr>\n",
       "    <tr>\n",
       "      <th>3</th>\n",
       "      <td>A1RJPIGRSNX4PW</td>\n",
       "      <td>B000H00VBQ</td>\n",
       "      <td>J. Kaplan \"JJ\"</td>\n",
       "      <td>[0, 0]</td>\n",
       "      <td>Mysteries are interesting.  The tension betwee...</td>\n",
       "      <td>4</td>\n",
       "      <td>Robson Green is mesmerizing</td>\n",
       "      <td>1383091200</td>\n",
       "      <td>10 30, 2013</td>\n",
       "      <td>141</td>\n",
       "    </tr>\n",
       "    <tr>\n",
       "      <th>4</th>\n",
       "      <td>A16XRPF40679KG</td>\n",
       "      <td>B000H00VBQ</td>\n",
       "      <td>Michael Dobey</td>\n",
       "      <td>[1, 1]</td>\n",
       "      <td>This show always is excellent, as far as briti...</td>\n",
       "      <td>5</td>\n",
       "      <td>Robson green and great writing</td>\n",
       "      <td>1234310400</td>\n",
       "      <td>02 11, 2009</td>\n",
       "      <td>1300</td>\n",
       "    </tr>\n",
       "  </tbody>\n",
       "</table>\n",
       "</div>"
      ],
      "text/plain": [
       "       reviewerID        asin                    reviewerName helpful  \\\n",
       "0  A11N155CW1UV02  B000H00VBQ                        AdrianaM  [0, 0]   \n",
       "1  A3BC8O2KCL29V2  B000H00VBQ                         Carol T  [0, 0]   \n",
       "2   A60D5HQFOTSOM  B000H00VBQ  Daniel Cooper \"dancoopermedia\"  [0, 1]   \n",
       "3  A1RJPIGRSNX4PW  B000H00VBQ                  J. Kaplan \"JJ\"  [0, 0]   \n",
       "4  A16XRPF40679KG  B000H00VBQ                   Michael Dobey  [1, 1]   \n",
       "\n",
       "                                          reviewText  overall  \\\n",
       "0  I had big expectations because I love English ...        2   \n",
       "1  I highly recommend this series. It is a must f...        5   \n",
       "2  This one is a real snoozer. Don't believe anyt...        1   \n",
       "3  Mysteries are interesting.  The tension betwee...        4   \n",
       "4  This show always is excellent, as far as briti...        5   \n",
       "\n",
       "                          summary  unixReviewTime   reviewTime  Reviews  \n",
       "0      A little bit boring for me      1399075200   05 3, 2014      159  \n",
       "1           Excellent Grown Up TV      1346630400   09 3, 2012      186  \n",
       "2           Way too boring for me      1381881600  10 16, 2013      134  \n",
       "3     Robson Green is mesmerizing      1383091200  10 30, 2013      141  \n",
       "4  Robson green and great writing      1234310400  02 11, 2009     1300  "
      ]
     },
     "execution_count": 14,
     "metadata": {},
     "output_type": "execute_result"
    }
   ],
   "source": [
    "dataset.head()"
   ]
  },
  {
   "cell_type": "markdown",
   "id": "agricultural-longer",
   "metadata": {},
   "source": [
    "### Creating new dataset having features having review length  upto 180 words"
   ]
  },
  {
   "cell_type": "code",
   "execution_count": 15,
   "id": "after-muscle",
   "metadata": {},
   "outputs": [],
   "source": [
    "df_rev = dataset[dataset['Reviews'] <= 180]"
   ]
  },
  {
   "cell_type": "code",
   "execution_count": 16,
   "id": "encouraging-usage",
   "metadata": {},
   "outputs": [
    {
     "data": {
      "text/html": [
       "<div>\n",
       "<style scoped>\n",
       "    .dataframe tbody tr th:only-of-type {\n",
       "        vertical-align: middle;\n",
       "    }\n",
       "\n",
       "    .dataframe tbody tr th {\n",
       "        vertical-align: top;\n",
       "    }\n",
       "\n",
       "    .dataframe thead th {\n",
       "        text-align: right;\n",
       "    }\n",
       "</style>\n",
       "<table border=\"1\" class=\"dataframe\">\n",
       "  <thead>\n",
       "    <tr style=\"text-align: right;\">\n",
       "      <th></th>\n",
       "      <th>reviewerID</th>\n",
       "      <th>asin</th>\n",
       "      <th>reviewerName</th>\n",
       "      <th>helpful</th>\n",
       "      <th>reviewText</th>\n",
       "      <th>overall</th>\n",
       "      <th>summary</th>\n",
       "      <th>unixReviewTime</th>\n",
       "      <th>reviewTime</th>\n",
       "      <th>Reviews</th>\n",
       "    </tr>\n",
       "  </thead>\n",
       "  <tbody>\n",
       "    <tr>\n",
       "      <th>0</th>\n",
       "      <td>A11N155CW1UV02</td>\n",
       "      <td>B000H00VBQ</td>\n",
       "      <td>AdrianaM</td>\n",
       "      <td>[0, 0]</td>\n",
       "      <td>I had big expectations because I love English ...</td>\n",
       "      <td>2</td>\n",
       "      <td>A little bit boring for me</td>\n",
       "      <td>1399075200</td>\n",
       "      <td>05 3, 2014</td>\n",
       "      <td>159</td>\n",
       "    </tr>\n",
       "    <tr>\n",
       "      <th>2</th>\n",
       "      <td>A60D5HQFOTSOM</td>\n",
       "      <td>B000H00VBQ</td>\n",
       "      <td>Daniel Cooper \"dancoopermedia\"</td>\n",
       "      <td>[0, 1]</td>\n",
       "      <td>This one is a real snoozer. Don't believe anyt...</td>\n",
       "      <td>1</td>\n",
       "      <td>Way too boring for me</td>\n",
       "      <td>1381881600</td>\n",
       "      <td>10 16, 2013</td>\n",
       "      <td>134</td>\n",
       "    </tr>\n",
       "    <tr>\n",
       "      <th>3</th>\n",
       "      <td>A1RJPIGRSNX4PW</td>\n",
       "      <td>B000H00VBQ</td>\n",
       "      <td>J. Kaplan \"JJ\"</td>\n",
       "      <td>[0, 0]</td>\n",
       "      <td>Mysteries are interesting.  The tension betwee...</td>\n",
       "      <td>4</td>\n",
       "      <td>Robson Green is mesmerizing</td>\n",
       "      <td>1383091200</td>\n",
       "      <td>10 30, 2013</td>\n",
       "      <td>141</td>\n",
       "    </tr>\n",
       "    <tr>\n",
       "      <th>6</th>\n",
       "      <td>A1PG2VV4W1WRPL</td>\n",
       "      <td>B000H0X79O</td>\n",
       "      <td>Jimmy C. Saunders \"Papa Smurf\"</td>\n",
       "      <td>[0, 0]</td>\n",
       "      <td>It beats watching a blank screen. However, I j...</td>\n",
       "      <td>3</td>\n",
       "      <td>It takes up your time.</td>\n",
       "      <td>1381795200</td>\n",
       "      <td>10 15, 2013</td>\n",
       "      <td>99</td>\n",
       "    </tr>\n",
       "    <tr>\n",
       "      <th>9</th>\n",
       "      <td>AUX8EUBNTHIIU</td>\n",
       "      <td>B000H0X79O</td>\n",
       "      <td>Louis V. Borsellino</td>\n",
       "      <td>[0, 0]</td>\n",
       "      <td>Not bad.  Didn't know any of the comedians but...</td>\n",
       "      <td>3</td>\n",
       "      <td>Entertaining Comedy</td>\n",
       "      <td>1396396800</td>\n",
       "      <td>04 2, 2014</td>\n",
       "      <td>127</td>\n",
       "    </tr>\n",
       "  </tbody>\n",
       "</table>\n",
       "</div>"
      ],
      "text/plain": [
       "       reviewerID        asin                    reviewerName helpful  \\\n",
       "0  A11N155CW1UV02  B000H00VBQ                        AdrianaM  [0, 0]   \n",
       "2   A60D5HQFOTSOM  B000H00VBQ  Daniel Cooper \"dancoopermedia\"  [0, 1]   \n",
       "3  A1RJPIGRSNX4PW  B000H00VBQ                  J. Kaplan \"JJ\"  [0, 0]   \n",
       "6  A1PG2VV4W1WRPL  B000H0X79O  Jimmy C. Saunders \"Papa Smurf\"  [0, 0]   \n",
       "9   AUX8EUBNTHIIU  B000H0X79O             Louis V. Borsellino  [0, 0]   \n",
       "\n",
       "                                          reviewText  overall  \\\n",
       "0  I had big expectations because I love English ...        2   \n",
       "2  This one is a real snoozer. Don't believe anyt...        1   \n",
       "3  Mysteries are interesting.  The tension betwee...        4   \n",
       "6  It beats watching a blank screen. However, I j...        3   \n",
       "9  Not bad.  Didn't know any of the comedians but...        3   \n",
       "\n",
       "                       summary  unixReviewTime   reviewTime  Reviews  \n",
       "0   A little bit boring for me      1399075200   05 3, 2014      159  \n",
       "2        Way too boring for me      1381881600  10 16, 2013      134  \n",
       "3  Robson Green is mesmerizing      1383091200  10 30, 2013      141  \n",
       "6       It takes up your time.      1381795200  10 15, 2013       99  \n",
       "9          Entertaining Comedy      1396396800   04 2, 2014      127  "
      ]
     },
     "execution_count": 16,
     "metadata": {},
     "output_type": "execute_result"
    }
   ],
   "source": [
    "df_rev.head()"
   ]
  },
  {
   "cell_type": "code",
   "execution_count": 17,
   "id": "blessed-luxury",
   "metadata": {},
   "outputs": [
    {
     "data": {
      "text/plain": [
       "(14030, 10)"
      ]
     },
     "execution_count": 17,
     "metadata": {},
     "output_type": "execute_result"
    }
   ],
   "source": [
    "df_rev.shape"
   ]
  },
  {
   "cell_type": "markdown",
   "id": "limiting-channel",
   "metadata": {},
   "source": [
    "## EXPLORATORY DATA ANALYSIS"
   ]
  },
  {
   "cell_type": "code",
   "execution_count": 27,
   "id": "widespread-pontiac",
   "metadata": {},
   "outputs": [
    {
     "name": "stdout",
     "output_type": "stream",
     "text": [
      "Total number of reviews: 14030\n",
      "Total number of products: 1551\n"
     ]
    }
   ],
   "source": [
    "print('Total number of reviews:',len(df_rev))\n",
    "print(\"Total number of products:\",len(df_rev[\"asin\"].unique()))"
   ]
  },
  {
   "cell_type": "code",
   "execution_count": 28,
   "id": "pacific-representation",
   "metadata": {},
   "outputs": [
    {
     "name": "stdout",
     "output_type": "stream",
     "text": [
      "\n",
      "Percentage of reviews with positive sentiment : 84.97%\n",
      "\n",
      "Percentage of reviews with neutral sentiment : 8.11%\n",
      "\n",
      "Percentage of reviews with negative sentiment : 6.92%\n"
     ]
    }
   ],
   "source": [
    "print(\"\\nPercentage of reviews with positive sentiment : {:.2f}%\"\\\n",
    "      .format(df_rev[df_rev['overall']>3][\"overall\"].count()/len(df_rev)*100))\n",
    "\n",
    "print(\"\\nPercentage of reviews with neutral sentiment : {:.2f}%\"\\\n",
    "      .format(df_rev[df_rev['overall']==3][\"overall\"].count()/len(df_rev)*100))\n",
    "\n",
    "print(\"\\nPercentage of reviews with negative sentiment : {:.2f}%\"\\\n",
    "      .format(df_rev[df_rev['overall']<3][\"overall\"].count()/len(df_rev)*100))"
   ]
  },
  {
   "cell_type": "markdown",
   "id": "assigned-operation",
   "metadata": {},
   "source": [
    "### MISSING VALUES"
   ]
  },
  {
   "cell_type": "code",
   "execution_count": 29,
   "id": "alien-philosophy",
   "metadata": {},
   "outputs": [
    {
     "name": "stdout",
     "output_type": "stream",
     "text": [
      "The reviewerName has 125 null values\n"
     ]
    }
   ],
   "source": [
    "features_with_na = [feature for feature in df_rev.columns if df_rev[feature].isnull().sum()>1]\n",
    "\n",
    "for feature in features_with_na:\n",
    "    print(f\"The {feature} has {df_rev[feature].isnull().sum()} null values\")"
   ]
  },
  {
   "cell_type": "markdown",
   "id": "antique-founder",
   "metadata": {},
   "source": [
    "### HANDLING THE MISSING VALUES"
   ]
  },
  {
   "cell_type": "code",
   "execution_count": 30,
   "id": "characteristic-competition",
   "metadata": {},
   "outputs": [],
   "source": [
    "df_rev[\"reviewerName\"].fillna(\"Anonymous\",inplace = True)"
   ]
  },
  {
   "cell_type": "code",
   "execution_count": 31,
   "id": "wooden-junior",
   "metadata": {},
   "outputs": [
    {
     "data": {
      "text/plain": [
       "reviewerID        0\n",
       "asin              0\n",
       "reviewerName      0\n",
       "helpful           0\n",
       "reviewText        0\n",
       "overall           0\n",
       "summary           0\n",
       "unixReviewTime    0\n",
       "reviewTime        0\n",
       "Reviews           0\n",
       "dtype: int64"
      ]
     },
     "execution_count": 31,
     "metadata": {},
     "output_type": "execute_result"
    }
   ],
   "source": [
    "df_rev.isnull().sum()"
   ]
  },
  {
   "cell_type": "code",
   "execution_count": 32,
   "id": "brazilian-yacht",
   "metadata": {},
   "outputs": [
    {
     "data": {
      "image/png": "[encoded data removed]",
      "text/plain": [
       "<Figure size 432x288 with 1 Axes>"
      ]
     },
     "metadata": {
      "needs_background": "light"
     },
     "output_type": "display_data"
    }
   ],
   "source": [
    "plt.figure()\n",
    "sns.countplot(x='overall', data = df_rev)\n",
    "plt.xlabel('Score (Rating)')\n",
    "plt.show()"
   ]
  },
  {
   "cell_type": "markdown",
   "id": "competitive-adventure",
   "metadata": {},
   "source": [
    "### OBSERVATION:\n",
    "Amount of rating 5 is twice as compared to other ratings combined all together."
   ]
  },
  {
   "cell_type": "code",
   "execution_count": 33,
   "id": "distinct-negotiation",
   "metadata": {},
   "outputs": [
    {
     "data": {
      "image/png": "[encoded data removed]",
      "text/plain": [
       "<Figure size 432x288 with 1 Axes>"
      ]
     },
     "metadata": {
      "needs_background": "light"
     },
     "output_type": "display_data"
    }
   ],
   "source": [
    "products = df_rev[\"asin\"].value_counts()\n",
    "products[:5].plot(kind = \"bar\")\n",
    "plt.title(\"Total number of reviews of Top 5 Products\")\n",
    "plt.show()"
   ]
  },
  {
   "cell_type": "code",
   "execution_count": 69,
   "id": "continent-smooth",
   "metadata": {},
   "outputs": [],
   "source": [
    "## assigning whether review sentiment is positive, neutral or negative on the basis of overall rating\n",
    "\n",
    "def labelFunc(rating):\n",
    "    if rating >= 4:\n",
    "        return 'Positive'\n",
    "    elif rating <= 2:\n",
    "        return 'Negative'\n",
    "    else:\n",
    "        return \"Neutral\"\n",
    "df_rev[\"Sentiment\"] = df_rev[\"overall\"].apply(labelFunc)     "
   ]
  },
  {
   "cell_type": "markdown",
   "id": "featured-extreme",
   "metadata": {},
   "source": [
    "### Creating new dataframe consisting of **reviewText** and **Sentiments**"
   ]
  },
  {
   "cell_type": "code",
   "execution_count": 36,
   "id": "beginning-preview",
   "metadata": {},
   "outputs": [
    {
     "data": {
      "text/html": [
       "<div>\n",
       "<style scoped>\n",
       "    .dataframe tbody tr th:only-of-type {\n",
       "        vertical-align: middle;\n",
       "    }\n",
       "\n",
       "    .dataframe tbody tr th {\n",
       "        vertical-align: top;\n",
       "    }\n",
       "\n",
       "    .dataframe thead th {\n",
       "        text-align: right;\n",
       "    }\n",
       "</style>\n",
       "<table border=\"1\" class=\"dataframe\">\n",
       "  <thead>\n",
       "    <tr style=\"text-align: right;\">\n",
       "      <th></th>\n",
       "      <th>reviewText</th>\n",
       "      <th>Sentiment</th>\n",
       "    </tr>\n",
       "  </thead>\n",
       "  <tbody>\n",
       "    <tr>\n",
       "      <th>0</th>\n",
       "      <td>I had big expectations because I love English ...</td>\n",
       "      <td>Negative</td>\n",
       "    </tr>\n",
       "    <tr>\n",
       "      <th>2</th>\n",
       "      <td>This one is a real snoozer. Don't believe anyt...</td>\n",
       "      <td>Negative</td>\n",
       "    </tr>\n",
       "    <tr>\n",
       "      <th>3</th>\n",
       "      <td>Mysteries are interesting.  The tension betwee...</td>\n",
       "      <td>Positive</td>\n",
       "    </tr>\n",
       "    <tr>\n",
       "      <th>6</th>\n",
       "      <td>It beats watching a blank screen. However, I j...</td>\n",
       "      <td>Neutral</td>\n",
       "    </tr>\n",
       "    <tr>\n",
       "      <th>9</th>\n",
       "      <td>Not bad.  Didn't know any of the comedians but...</td>\n",
       "      <td>Neutral</td>\n",
       "    </tr>\n",
       "  </tbody>\n",
       "</table>\n",
       "</div>"
      ],
      "text/plain": [
       "                                          reviewText Sentiment\n",
       "0  I had big expectations because I love English ...  Negative\n",
       "2  This one is a real snoozer. Don't believe anyt...  Negative\n",
       "3  Mysteries are interesting.  The tension betwee...  Positive\n",
       "6  It beats watching a blank screen. However, I j...   Neutral\n",
       "9  Not bad.  Didn't know any of the comedians but...   Neutral"
      ]
     },
     "execution_count": 36,
     "metadata": {},
     "output_type": "execute_result"
    }
   ],
   "source": [
    "reviews_df = df_rev.loc[: , [\"reviewText\",\"Sentiment\"]]\n",
    "reviews_df.head()"
   ]
  },
  {
   "cell_type": "code",
   "execution_count": 37,
   "id": "auburn-nevada",
   "metadata": {},
   "outputs": [],
   "source": [
    "reviews_df.reset_index(drop = True,inplace = True)"
   ]
  },
  {
   "cell_type": "code",
   "execution_count": 38,
   "id": "coordinated-battle",
   "metadata": {},
   "outputs": [
    {
     "data": {
      "text/plain": [
       "(14030, 2)"
      ]
     },
     "execution_count": 38,
     "metadata": {},
     "output_type": "execute_result"
    }
   ],
   "source": [
    "reviews_df.shape"
   ]
  },
  {
   "cell_type": "markdown",
   "id": "restricted-fashion",
   "metadata": {},
   "source": [
    "### CLEANING THE TEXT"
   ]
  },
  {
   "cell_type": "code",
   "execution_count": 40,
   "id": "detected-emphasis",
   "metadata": {},
   "outputs": [],
   "source": [
    "import re \n",
    "import nltk\n",
    "from nltk.corpus import stopwords\n",
    "from nltk.stem import WordNetLemmatizer\n",
    "corpus = []\n",
    "for i in range(0,14030):\n",
    "    review = re.sub(\"[^a-zA-Z]\",\" \",reviews_df[\"reviewText\"][i])\n",
    "    review = review.lower()\n",
    "    review = review.split()\n",
    "    lem = WordNetLemmatizer()\n",
    "    review = [lem.lemmatize(word) for word in review if not word in set(stopwords.words(\"english\"))]\n",
    "    review = \" \".join(review)\n",
    "    corpus.append(review)"
   ]
  },
  {
   "cell_type": "code",
   "execution_count": 41,
   "id": "skilled-chile",
   "metadata": {},
   "outputs": [
    {
     "data": {
      "text/plain": [
       "['big expectation love english tv particular investigative detective stuff guy really boring appeal',\n",
       " 'one real snoozer believe anything read hear awful idea title mean neither',\n",
       " 'mystery interesting tension robson tall blond good always believable often seemed uncomfortable',\n",
       " 'beat watching blank screen however seem tune comedy today',\n",
       " 'bad know comedian first time viewing put smile face check next season soon']"
      ]
     },
     "execution_count": 41,
     "metadata": {},
     "output_type": "execute_result"
    }
   ],
   "source": [
    "corpus[:5]"
   ]
  },
  {
   "cell_type": "markdown",
   "id": "black-theorem",
   "metadata": {},
   "source": [
    "### CREATING BAG OF WORDS"
   ]
  },
  {
   "cell_type": "markdown",
   "id": "interstate-energy",
   "metadata": {},
   "source": [
    "from sklearn.feature_extraction.text import CountVectorizer\n",
    "cv = CountVectorizer(max_features=1500)\n",
    "X = cv.fit_transform(corpus).toarray()\n",
    "y = reviews_df.iloc[:,1].values"
   ]
  },
  {
   "cell_type": "code",
   "execution_count": 43,
   "id": "acoustic-bargain",
   "metadata": {},
   "outputs": [
    {
     "data": {
      "text/plain": [
       "array([0, 0, 0, ..., 0, 0, 0], dtype=int64)"
      ]
     },
     "execution_count": 43,
     "metadata": {},
     "output_type": "execute_result"
    }
   ],
   "source": [
    "X[0]"
   ]
  },
  {
   "cell_type": "markdown",
   "id": "literary-performance",
   "metadata": {},
   "source": [
    "### TRAIN TEST SPLIT"
   ]
  },
  {
   "cell_type": "code",
   "execution_count": 44,
   "id": "sustained-typing",
   "metadata": {},
   "outputs": [],
   "source": [
    "from sklearn.model_selection import train_test_split\n",
    "X_train,X_test,y_train,y_test = train_test_split(X,y,test_size= 0.20,random_state =0)"
   ]
  },
  {
   "cell_type": "markdown",
   "id": "charitable-external",
   "metadata": {},
   "source": [
    "# BUILDING THE MODEL"
   ]
  },
  {
   "cell_type": "markdown",
   "id": "incorporate-palmer",
   "metadata": {},
   "source": [
    "### LOGISTIC REGRESSION"
   ]
  },
  {
   "cell_type": "code",
   "execution_count": 45,
   "id": "conventional-sector",
   "metadata": {},
   "outputs": [],
   "source": [
    "from sklearn.linear_model import LogisticRegression\n",
    "classifier = LogisticRegression(random_state = 0)\n",
    "model = classifier.fit(X_train,y_train)"
   ]
  },
  {
   "cell_type": "code",
   "execution_count": 46,
   "id": "mobile-turner",
   "metadata": {},
   "outputs": [],
   "source": [
    "predict = model.predict(X_test)"
   ]
  },
  {
   "cell_type": "code",
   "execution_count": 47,
   "id": "hidden-bulgarian",
   "metadata": {},
   "outputs": [
    {
     "data": {
      "text/html": [
       "<div>\n",
       "<style scoped>\n",
       "    .dataframe tbody tr th:only-of-type {\n",
       "        vertical-align: middle;\n",
       "    }\n",
       "\n",
       "    .dataframe tbody tr th {\n",
       "        vertical-align: top;\n",
       "    }\n",
       "\n",
       "    .dataframe thead th {\n",
       "        text-align: right;\n",
       "    }\n",
       "</style>\n",
       "<table border=\"1\" class=\"dataframe\">\n",
       "  <thead>\n",
       "    <tr style=\"text-align: right;\">\n",
       "      <th></th>\n",
       "      <th>Actual</th>\n",
       "      <th>FINAL</th>\n",
       "    </tr>\n",
       "  </thead>\n",
       "  <tbody>\n",
       "    <tr>\n",
       "      <th>0</th>\n",
       "      <td>Positive</td>\n",
       "      <td>Positive</td>\n",
       "    </tr>\n",
       "    <tr>\n",
       "      <th>1</th>\n",
       "      <td>Positive</td>\n",
       "      <td>Positive</td>\n",
       "    </tr>\n",
       "    <tr>\n",
       "      <th>2</th>\n",
       "      <td>Positive</td>\n",
       "      <td>Positive</td>\n",
       "    </tr>\n",
       "    <tr>\n",
       "      <th>3</th>\n",
       "      <td>Positive</td>\n",
       "      <td>Positive</td>\n",
       "    </tr>\n",
       "    <tr>\n",
       "      <th>4</th>\n",
       "      <td>Negative</td>\n",
       "      <td>Positive</td>\n",
       "    </tr>\n",
       "  </tbody>\n",
       "</table>\n",
       "</div>"
      ],
      "text/plain": [
       "     Actual     FINAL\n",
       "0  Positive  Positive\n",
       "1  Positive  Positive\n",
       "2  Positive  Positive\n",
       "3  Positive  Positive\n",
       "4  Negative  Positive"
      ]
     },
     "execution_count": 47,
     "metadata": {},
     "output_type": "execute_result"
    }
   ],
   "source": [
    "comp = pd.DataFrame({\"Actual\":y_test,\"FINAL\":predict})\n",
    "comp.head()"
   ]
  },
  {
   "cell_type": "markdown",
   "id": "searching-arthur",
   "metadata": {},
   "source": [
    "### ERROR METRICS : LOGISTIC REGRESSION"
   ]
  },
  {
   "cell_type": "code",
   "execution_count": 48,
   "id": "accepting-audit",
   "metadata": {},
   "outputs": [],
   "source": [
    "from sklearn import metrics"
   ]
  },
  {
   "cell_type": "code",
   "execution_count": 49,
   "id": "hundred-therapist",
   "metadata": {},
   "outputs": [
    {
     "data": {
      "text/plain": [
       "array([[  96,   27,   90],\n",
       "       [  28,   39,  152],\n",
       "       [  30,   55, 2289]], dtype=int64)"
      ]
     },
     "execution_count": 49,
     "metadata": {},
     "output_type": "execute_result"
    }
   ],
   "source": [
    "cm = metrics.confusion_matrix(y_test,predict)\n",
    "cm"
   ]
  },
  {
   "cell_type": "code",
   "execution_count": 50,
   "id": "latter-audit",
   "metadata": {},
   "outputs": [
    {
     "name": "stdout",
     "output_type": "stream",
     "text": [
      "              precision    recall  f1-score   support\n",
      "\n",
      "    Negative       0.62      0.45      0.52       213\n",
      "     Neutral       0.32      0.18      0.23       219\n",
      "    Positive       0.90      0.96      0.93      2374\n",
      "\n",
      "    accuracy                           0.86      2806\n",
      "   macro avg       0.62      0.53      0.56      2806\n",
      "weighted avg       0.84      0.86      0.85      2806\n",
      "\n"
     ]
    }
   ],
   "source": [
    "print(metrics.classification_report(y_test,predict))"
   ]
  },
  {
   "cell_type": "markdown",
   "id": "brief-depth",
   "metadata": {},
   "source": [
    "### NAIVE BAYES CLASSIFIER"
   ]
  },
  {
   "cell_type": "code",
   "execution_count": 51,
   "id": "provincial-macro",
   "metadata": {},
   "outputs": [],
   "source": [
    "from sklearn.naive_bayes import GaussianNB\n",
    "classifier = GaussianNB()\n",
    "model = classifier.fit(X_train,y_train)"
   ]
  },
  {
   "cell_type": "code",
   "execution_count": 52,
   "id": "legendary-republic",
   "metadata": {},
   "outputs": [],
   "source": [
    "y_pred = model.predict(X_test)"
   ]
  },
  {
   "cell_type": "code",
   "execution_count": 55,
   "id": "attended-adams",
   "metadata": {},
   "outputs": [
    {
     "data": {
      "text/html": [
       "<div>\n",
       "<style scoped>\n",
       "    .dataframe tbody tr th:only-of-type {\n",
       "        vertical-align: middle;\n",
       "    }\n",
       "\n",
       "    .dataframe tbody tr th {\n",
       "        vertical-align: top;\n",
       "    }\n",
       "\n",
       "    .dataframe thead th {\n",
       "        text-align: right;\n",
       "    }\n",
       "</style>\n",
       "<table border=\"1\" class=\"dataframe\">\n",
       "  <thead>\n",
       "    <tr style=\"text-align: right;\">\n",
       "      <th></th>\n",
       "      <th>Actual</th>\n",
       "      <th>FINAL</th>\n",
       "    </tr>\n",
       "  </thead>\n",
       "  <tbody>\n",
       "    <tr>\n",
       "      <th>0</th>\n",
       "      <td>Positive</td>\n",
       "      <td>Positive</td>\n",
       "    </tr>\n",
       "    <tr>\n",
       "      <th>1</th>\n",
       "      <td>Positive</td>\n",
       "      <td>Positive</td>\n",
       "    </tr>\n",
       "    <tr>\n",
       "      <th>2</th>\n",
       "      <td>Positive</td>\n",
       "      <td>Negative</td>\n",
       "    </tr>\n",
       "    <tr>\n",
       "      <th>3</th>\n",
       "      <td>Positive</td>\n",
       "      <td>Negative</td>\n",
       "    </tr>\n",
       "    <tr>\n",
       "      <th>4</th>\n",
       "      <td>Negative</td>\n",
       "      <td>Negative</td>\n",
       "    </tr>\n",
       "  </tbody>\n",
       "</table>\n",
       "</div>"
      ],
      "text/plain": [
       "     Actual     FINAL\n",
       "0  Positive  Positive\n",
       "1  Positive  Positive\n",
       "2  Positive  Negative\n",
       "3  Positive  Negative\n",
       "4  Negative  Negative"
      ]
     },
     "execution_count": 55,
     "metadata": {},
     "output_type": "execute_result"
    }
   ],
   "source": [
    "comp = pd.DataFrame({\"Actual\":y_test,\"FINAL\":y_pred})\n",
    "comp.head()"
   ]
  },
  {
   "cell_type": "markdown",
   "id": "wrong-settlement",
   "metadata": {},
   "source": [
    "### ERROR METRICS : NAIVE BAYES CLASSIFIER"
   ]
  },
  {
   "cell_type": "code",
   "execution_count": 53,
   "id": "parental-endorsement",
   "metadata": {},
   "outputs": [],
   "source": [
    "cm = metrics.confusion_matrix(y_test,y_pred)"
   ]
  },
  {
   "cell_type": "code",
   "execution_count": 54,
   "id": "liquid-samoa",
   "metadata": {},
   "outputs": [
    {
     "data": {
      "text/plain": [
       "array([[ 140,   41,   32],\n",
       "       [ 126,   51,   42],\n",
       "       [1024,  601,  749]], dtype=int64)"
      ]
     },
     "execution_count": 54,
     "metadata": {},
     "output_type": "execute_result"
    }
   ],
   "source": [
    "cm"
   ]
  },
  {
   "cell_type": "code",
   "execution_count": 51,
   "id": "historic-donor",
   "metadata": {},
   "outputs": [
    {
     "name": "stdout",
     "output_type": "stream",
     "text": [
      "              precision    recall  f1-score   support\n",
      "\n",
      "    Negative       0.13      0.58      0.22       157\n",
      "     Neutral       0.07      0.23      0.11       154\n",
      "    Positive       0.90      0.45      0.60      1714\n",
      "\n",
      "    accuracy                           0.44      2025\n",
      "   macro avg       0.37      0.42      0.31      2025\n",
      "weighted avg       0.78      0.44      0.53      2025\n",
      "\n"
     ]
    }
   ],
   "source": [
    "print(metrics.classification_report(y_test,y_pred))\n"
   ]
  },
  {
   "cell_type": "markdown",
   "id": "sustained-preserve",
   "metadata": {},
   "source": [
    "### RANDOM FOREST CLASSIFIER"
   ]
  },
  {
   "cell_type": "code",
   "execution_count": 56,
   "id": "criminal-fruit",
   "metadata": {},
   "outputs": [],
   "source": [
    "from sklearn.ensemble import RandomForestClassifier\n",
    "\n",
    "clf = RandomForestClassifier()\n",
    "\n",
    "model = clf.fit(X_train,y_train)"
   ]
  },
  {
   "cell_type": "code",
   "execution_count": 57,
   "id": "removed-brown",
   "metadata": {},
   "outputs": [],
   "source": [
    "y_pred = model.predict(X_test)"
   ]
  },
  {
   "cell_type": "code",
   "execution_count": 58,
   "id": "fifteen-intention",
   "metadata": {},
   "outputs": [
    {
     "data": {
      "text/html": [
       "<div>\n",
       "<style scoped>\n",
       "    .dataframe tbody tr th:only-of-type {\n",
       "        vertical-align: middle;\n",
       "    }\n",
       "\n",
       "    .dataframe tbody tr th {\n",
       "        vertical-align: top;\n",
       "    }\n",
       "\n",
       "    .dataframe thead th {\n",
       "        text-align: right;\n",
       "    }\n",
       "</style>\n",
       "<table border=\"1\" class=\"dataframe\">\n",
       "  <thead>\n",
       "    <tr style=\"text-align: right;\">\n",
       "      <th></th>\n",
       "      <th>Actual</th>\n",
       "      <th>FINAL</th>\n",
       "    </tr>\n",
       "  </thead>\n",
       "  <tbody>\n",
       "    <tr>\n",
       "      <th>0</th>\n",
       "      <td>Positive</td>\n",
       "      <td>Positive</td>\n",
       "    </tr>\n",
       "    <tr>\n",
       "      <th>1</th>\n",
       "      <td>Positive</td>\n",
       "      <td>Positive</td>\n",
       "    </tr>\n",
       "    <tr>\n",
       "      <th>2</th>\n",
       "      <td>Positive</td>\n",
       "      <td>Positive</td>\n",
       "    </tr>\n",
       "    <tr>\n",
       "      <th>3</th>\n",
       "      <td>Positive</td>\n",
       "      <td>Positive</td>\n",
       "    </tr>\n",
       "    <tr>\n",
       "      <th>4</th>\n",
       "      <td>Negative</td>\n",
       "      <td>Positive</td>\n",
       "    </tr>\n",
       "  </tbody>\n",
       "</table>\n",
       "</div>"
      ],
      "text/plain": [
       "     Actual     FINAL\n",
       "0  Positive  Positive\n",
       "1  Positive  Positive\n",
       "2  Positive  Positive\n",
       "3  Positive  Positive\n",
       "4  Negative  Positive"
      ]
     },
     "execution_count": 58,
     "metadata": {},
     "output_type": "execute_result"
    }
   ],
   "source": [
    "comp = pd.DataFrame({\"Actual\":y_test,\"FINAL\":y_pred})\n",
    "comp.head()"
   ]
  },
  {
   "cell_type": "markdown",
   "id": "purple-vertex",
   "metadata": {},
   "source": [
    "### ERROR METRICS : RANDOM FOREST CLASSIFIER"
   ]
  },
  {
   "cell_type": "code",
   "execution_count": 59,
   "id": "bizarre-giving",
   "metadata": {},
   "outputs": [
    {
     "data": {
      "text/plain": [
       "array([[  45,    6,  162],\n",
       "       [   8,   16,  195],\n",
       "       [   2,    7, 2365]], dtype=int64)"
      ]
     },
     "execution_count": 59,
     "metadata": {},
     "output_type": "execute_result"
    }
   ],
   "source": [
    "cm = metrics.confusion_matrix(y_test,y_pred)\n",
    "cm"
   ]
  },
  {
   "cell_type": "code",
   "execution_count": 60,
   "id": "stock-france",
   "metadata": {},
   "outputs": [
    {
     "name": "stdout",
     "output_type": "stream",
     "text": [
      "              precision    recall  f1-score   support\n",
      "\n",
      "    Negative       0.82      0.21      0.34       213\n",
      "     Neutral       0.55      0.07      0.13       219\n",
      "    Positive       0.87      1.00      0.93      2374\n",
      "\n",
      "    accuracy                           0.86      2806\n",
      "   macro avg       0.75      0.43      0.46      2806\n",
      "weighted avg       0.84      0.86      0.82      2806\n",
      "\n"
     ]
    }
   ],
   "source": [
    "print(metrics.classification_report(y_test,y_pred))"
   ]
  },
  {
   "cell_type": "markdown",
   "id": "sixth-packet",
   "metadata": {},
   "source": [
    "### DECISION TREE CLASSIFIER"
   ]
  },
  {
   "cell_type": "code",
   "execution_count": 61,
   "id": "imposed-courtesy",
   "metadata": {},
   "outputs": [],
   "source": [
    "from sklearn.tree import DecisionTreeClassifier\n",
    "\n",
    "clf = DecisionTreeClassifier()\n",
    "model = clf.fit(X_train,y_train)"
   ]
  },
  {
   "cell_type": "code",
   "execution_count": 62,
   "id": "north-example",
   "metadata": {},
   "outputs": [],
   "source": [
    "y_pred = model.predict(X_test)"
   ]
  },
  {
   "cell_type": "code",
   "execution_count": 63,
   "id": "equal-shoulder",
   "metadata": {},
   "outputs": [
    {
     "data": {
      "text/html": [
       "<div>\n",
       "<style scoped>\n",
       "    .dataframe tbody tr th:only-of-type {\n",
       "        vertical-align: middle;\n",
       "    }\n",
       "\n",
       "    .dataframe tbody tr th {\n",
       "        vertical-align: top;\n",
       "    }\n",
       "\n",
       "    .dataframe thead th {\n",
       "        text-align: right;\n",
       "    }\n",
       "</style>\n",
       "<table border=\"1\" class=\"dataframe\">\n",
       "  <thead>\n",
       "    <tr style=\"text-align: right;\">\n",
       "      <th></th>\n",
       "      <th>Actual</th>\n",
       "      <th>FINAL</th>\n",
       "    </tr>\n",
       "  </thead>\n",
       "  <tbody>\n",
       "    <tr>\n",
       "      <th>0</th>\n",
       "      <td>Positive</td>\n",
       "      <td>Positive</td>\n",
       "    </tr>\n",
       "    <tr>\n",
       "      <th>1</th>\n",
       "      <td>Positive</td>\n",
       "      <td>Positive</td>\n",
       "    </tr>\n",
       "    <tr>\n",
       "      <th>2</th>\n",
       "      <td>Positive</td>\n",
       "      <td>Positive</td>\n",
       "    </tr>\n",
       "    <tr>\n",
       "      <th>3</th>\n",
       "      <td>Positive</td>\n",
       "      <td>Positive</td>\n",
       "    </tr>\n",
       "    <tr>\n",
       "      <th>4</th>\n",
       "      <td>Negative</td>\n",
       "      <td>Positive</td>\n",
       "    </tr>\n",
       "  </tbody>\n",
       "</table>\n",
       "</div>"
      ],
      "text/plain": [
       "     Actual     FINAL\n",
       "0  Positive  Positive\n",
       "1  Positive  Positive\n",
       "2  Positive  Positive\n",
       "3  Positive  Positive\n",
       "4  Negative  Positive"
      ]
     },
     "execution_count": 63,
     "metadata": {},
     "output_type": "execute_result"
    }
   ],
   "source": [
    "comp = pd.DataFrame({\"Actual\":y_test,\"FINAL\":y_pred})\n",
    "comp.head()"
   ]
  },
  {
   "cell_type": "markdown",
   "id": "vocational-caribbean",
   "metadata": {},
   "source": [
    "### ERROR METRICS : DECISION TREE CLASSIFIER"
   ]
  },
  {
   "cell_type": "code",
   "execution_count": 64,
   "id": "canadian-november",
   "metadata": {},
   "outputs": [
    {
     "name": "stdout",
     "output_type": "stream",
     "text": [
      "Accuracy: 0.7972202423378475\n"
     ]
    }
   ],
   "source": [
    "print(\"Accuracy:\",metrics.accuracy_score(y_test,y_pred))"
   ]
  },
  {
   "cell_type": "code",
   "execution_count": 65,
   "id": "ancient-japan",
   "metadata": {},
   "outputs": [
    {
     "name": "stdout",
     "output_type": "stream",
     "text": [
      "CLASSIFICATION REPORT\n",
      "\n",
      "              precision    recall  f1-score   support\n",
      "\n",
      "    Negative       0.36      0.27      0.31       213\n",
      "     Neutral       0.18      0.21      0.20       219\n",
      "    Positive       0.89      0.90      0.89      2374\n",
      "\n",
      "    accuracy                           0.80      2806\n",
      "   macro avg       0.48      0.46      0.47      2806\n",
      "weighted avg       0.80      0.80      0.80      2806\n",
      "\n"
     ]
    }
   ],
   "source": [
    "print(\"CLASSIFICATION REPORT\\n\")\n",
    "print(metrics.classification_report(y_test,y_pred))"
   ]
  },
  {
   "cell_type": "markdown",
   "id": "dedicated-beverage",
   "metadata": {},
   "source": [
    "#### ACCURACY OF LOGISTIC REGRESSION : 86 %\n",
    "#### ACCURACY OF NAIVE BAYES : 44 %\n",
    "#### ACCURACY OF RANDOM FOREST CLASSIFIER : 86 %\n",
    "#### ACCURACY OF DECISION TREE CLASSIFIER : 80 %"
   ]
  },
  {
   "cell_type": "markdown",
   "id": "furnished-grove",
   "metadata": {},
   "source": [
    "### ALGORITHMS LOGISTIC REGRESSION AND RANDOM FOREST CLASSIFIER GIVES US BETTER ACCURACY AS COMPARED TO OTHER ALGORITHMS."
   ]
  }
 ],
 "metadata": {
  "kernelspec": {
   "display_name": "Python 3",
   "language": "python",
   "name": "python3"
  },
  "language_info": {
   "codemirror_mode": {
    "name": "ipython",
    "version": 3
   },
   "file_extension": ".py",
   "mimetype": "text/x-python",
   "name": "python",
   "nbconvert_exporter": "python",
   "pygments_lexer": "ipython3",
   "version": "3.8.8"
  }
 },
 "nbformat": 4,
 "nbformat_minor": 5
}
